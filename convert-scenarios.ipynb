{
 "cells": [
  {
   "cell_type": "code",
   "execution_count": null,
   "metadata": {},
   "outputs": [],
   "source": [
    "import os\n",
    "\n",
    "import pandas as pd\n",
    "%matplotlib inline\n",
    "\n",
    "import ukpopulation.utils as ukpoputils\n",
    "import ukpopulation.snhpdata as SNHPData"
   ]
  },
  {
   "cell_type": "markdown",
   "metadata": {},
   "source": [
    "# Read in the raw data"
   ]
  },
  {
   "cell_type": "code",
   "execution_count": null,
   "metadata": {},
   "outputs": [],
   "source": [
    "data_path = os.path.join('.', 'data_as_provided')\n",
    "output_path = os.path.join('.', 'data_processed')\n",
    "\n",
    "baseline_file = os.path.join(data_path, 'Scenario Baseline - Dwelling+Employment projections.xlsx')\n",
    "expansion_file = os.path.join(data_path, 'Scenario Expansion - Dwelling+Employment projections.xlsx')\n",
    "settlements_file = os.path.join(data_path, 'Scenario New Settlements - Dwelling+Employment projections.xlsx')\n",
    "unplanned_file = os.path.join(data_path, 'Scenario Unplanned Development - Dwelling+Employment projections.xlsx')"
   ]
  },
  {
   "cell_type": "code",
   "execution_count": null,
   "metadata": {},
   "outputs": [],
   "source": [
    "def get_households(year, geogs, df): \n",
    "    \"\"\"Use UKPopulation to obtain historical and extrapolated household data for all other LADs\n",
    "    \n",
    "    Arguments\n",
    "    ---------\n",
    "    year : int\n",
    "    geogs : list\n",
    "    df : pandas.DataFrame\n",
    "        The raw data\n",
    "    \n",
    "    Returns\n",
    "    -------\n",
    "    pandas.DataFrame\n",
    "    \"\"\"\n",
    "\n",
    "    geogs = ukpoputils.split_by_country(geogs)\n",
    "\n",
    "    allsnhp = pd.DataFrame()\n",
    "\n",
    "    for country in geogs:\n",
    "        if not geogs[country]: continue\n",
    "        max_year = df.max_year(country)\n",
    "        min_year = df.min_year(country)\n",
    "\n",
    "        if year <= max_year:\n",
    "            if year <= min_year:\n",
    "                snhp = df.aggregate(geogs[country], min_year+1).merge(\n",
    "                            df.aggregate(geogs[country], min_year), \n",
    "                            left_on=\"GEOGRAPHY_CODE\", right_on=\"GEOGRAPHY_CODE\")\n",
    "                snhp[\"HOUSEHOLDS\"] = snhp.OBS_VALUE_y + (snhp.OBS_VALUE_y - snhp.OBS_VALUE_x) * (min_year - year)\n",
    "                snhp[\"PROJECTED_YEAR_NAME\"] = year\n",
    "                snhp.drop([\"PROJECTED_YEAR_NAME_x\", \"OBS_VALUE_x\", \"PROJECTED_YEAR_NAME_y\", \"OBS_VALUE_y\"], axis=1, inplace=True)\n",
    "            else:\n",
    "                snhp = df.aggregate(geogs[country], year).rename({\"OBS_VALUE\": \"HOUSEHOLDS\"}, axis=1)\n",
    "        else:\n",
    "            snhp = df.aggregate(\n",
    "                geogs[country], max_year-1).merge(\n",
    "                df.aggregate(geogs[country], max_year), \n",
    "                left_on=\"GEOGRAPHY_CODE\", right_on=\"GEOGRAPHY_CODE\")\n",
    "            snhp[\"HOUSEHOLDS\"] = snhp.OBS_VALUE_y + (snhp.OBS_VALUE_y - snhp.OBS_VALUE_x) * (year - max_year)\n",
    "            snhp[\"PROJECTED_YEAR_NAME\"] = year\n",
    "            snhp.drop([\"PROJECTED_YEAR_NAME_x\", \"OBS_VALUE_x\", \"PROJECTED_YEAR_NAME_y\", \"OBS_VALUE_y\"], axis=1, inplace=True)\n",
    "\n",
    "        allsnhp = allsnhp.append(snhp, ignore_index=True, sort=False)\n",
    "\n",
    "    return allsnhp\n",
    "\n",
    "def read_excel_into_df(filename, sheet_name):\n",
    "    \n",
    "    years = [str(x) for x in range(2004, 2050)]\n",
    "    types = {str(year): int for year in years}\n",
    "    \n",
    "    return pd.read_excel(\n",
    "        filename, \n",
    "        sheet_name=sheet_name, \n",
    "        header=3, \n",
    "        index_col=0,\n",
    "        names=['Area Name'].extend(years),\n",
    "        nrows=22,\n",
    "        dtype=types\n",
    "    )\n",
    "\n",
    "def process_df(df):\n",
    "    df = df.dropna(\n",
    "        ).reset_index(\n",
    "        ).melt(\n",
    "            id_vars='Area Name',\n",
    "            var_name='timestep',\n",
    "            value_name='dwellings')\n",
    "    df = df.set_index(['Area Name', 'timestep'])\n",
    "    return df\n",
    "\n",
    "lad_nmcds = pd.read_csv(os.path.join(data_path, 'lad_nmcd_changes.csv'))\n",
    "lad_nmcds = lad_nmcds[['lad16nm', 'lad16cd']]\n",
    "all_lad_nms = set(lad_nmcds.lad16nm)\n",
    "\n",
    "def add_national_data(df, lad_nmcds, snhp):\n",
    "    all_lads = set(lad_nmcds['lad16cd'])\n",
    "    arc_lads = set(df.reset_index()['lad16cd'].unique())\n",
    "    required_lads = all_lads - arc_lads\n",
    "\n",
    "    years = list(df['timestep'].unique())\n",
    "    dfs = [df]\n",
    "    for year in years:\n",
    "        national_data = get_households(year, required_lads, snhp)\n",
    "        national_data = national_data.rename(columns={'GEOGRAPHY_CODE': 'lad16cd',\n",
    "                                      'PROJECTED_YEAR_NAME': 'timestep',\n",
    "                                      'HOUSEHOLDS': 'dwellings'})\n",
    "        dfs.append(national_data)\n",
    "    df = pd.concat(dfs, sort=False)\n",
    "    df = df.rename(columns={'lad16cd': 'lad_uk_2016'})\n",
    "    return df\n",
    "\n",
    "def add_lad_codes(df):\n",
    "\n",
    "    baseline_lad_nms = set(df.reset_index()['Area Name'].unique())\n",
    "    df_wlad = df.reset_index().merge(lad_nmcds, \n",
    "                                     left_on='Area Name', \n",
    "                                     right_on='lad16nm').drop(columns='Area Name')\n",
    "    return df_wlad\n",
    "\n",
    "def write_out(df, filename):\n",
    "    df.to_csv(os.path.join(output_path, filename), index=False)"
   ]
  },
  {
   "cell_type": "code",
   "execution_count": null,
   "metadata": {},
   "outputs": [],
   "source": [
    "baseline = read_excel_into_df(baseline_file, 'Projection dwelling baseline')\n",
    "expansion = read_excel_into_df(expansion_file, 'Projection Expansion data')\n",
    "settlements = read_excel_into_df(settlements_file, 'Projection New Settlem data')\n",
    "unplanned = read_excel_into_df(unplanned_file, 'Projection UnplannedDev')\n",
    "\n",
    "arc_lads = set(baseline.reset_index()['Area Name'].unique())"
   ]
  },
  {
   "cell_type": "code",
   "execution_count": null,
   "metadata": {},
   "outputs": [],
   "source": [
    "snhp = SNHPData.SNHPData()"
   ]
  },
  {
   "cell_type": "code",
   "execution_count": null,
   "metadata": {},
   "outputs": [],
   "source": [
    "baseline = process_df(baseline)\n",
    "expansion = process_df(expansion)\n",
    "settlements = process_df(settlements)\n",
    "unplanned = process_df(unplanned)"
   ]
  },
  {
   "cell_type": "code",
   "execution_count": null,
   "metadata": {},
   "outputs": [],
   "source": [
    "baseline = add_lad_codes(baseline)\n",
    "expansion = add_lad_codes(expansion)\n",
    "settlements = add_lad_codes(settlements)\n",
    "unplanned = add_lad_codes(unplanned)"
   ]
  },
  {
   "cell_type": "code",
   "execution_count": null,
   "metadata": {},
   "outputs": [],
   "source": [
    "baseline = add_national_data(baseline, lad_nmcds, snhp)\n",
    "expansion = add_national_data(expansion, lad_nmcds, snhp)\n",
    "settlements = add_national_data(settlements, lad_nmcds, snhp)\n",
    "unplanned = add_national_data(unplanned, lad_nmcds, snhp)"
   ]
  },
  {
   "cell_type": "code",
   "execution_count": null,
   "metadata": {},
   "outputs": [],
   "source": [
    "write_out(baseline, 'arc_dwellings__baseline.csv')\n",
    "write_out(expansion, 'arc_dwellings__2-expansion.csv')\n",
    "write_out(settlements, 'arc_dwellings__1-new-cities.csv')\n",
    "write_out(unplanned, 'arc_dwellings__0-unplanned.csv')"
   ]
  },
  {
   "cell_type": "markdown",
   "metadata": {},
   "source": [
    "## Check the data"
   ]
  },
  {
   "cell_type": "code",
   "execution_count": null,
   "metadata": {},
   "outputs": [],
   "source": [
    "def filter_on_arc(df, lad_nmcds, arc_lads):   \n",
    "    just_arc_lads = df.lad_uk_2016.isin(lad_nmcds[lad_nmcds.lad16nm.isin(arc_lads)].lad16cd)\n",
    "    \n",
    "    df = df[just_arc_lads]\n",
    "    df = df.set_index(['timestep', 'lad_uk_2016'])\n",
    "    return df"
   ]
  },
  {
   "cell_type": "code",
   "execution_count": null,
   "metadata": {},
   "outputs": [],
   "source": [
    "bas = filter_on_arc(baseline, lad_nmcds, arc_lads)\n",
    "bas['unplanned'] = filter_on_arc(unplanned, lad_nmcds, arc_lads)['dwellings']\n",
    "bas['expansion'] = filter_on_arc(expansion, lad_nmcds, arc_lads)['dwellings']\n",
    "bas['settlements'] = filter_on_arc(settlements, lad_nmcds, arc_lads)['dwellings']\n",
    "bas = bas.rename(columns={'dwellings': 'baseline'})\n",
    "bas = bas[['expansion', 'settlements', 'unplanned', 'baseline']]\n",
    "\n",
    "bas.groupby(by='timestep').sum().plot()"
   ]
  },
  {
   "cell_type": "code",
   "execution_count": null,
   "metadata": {},
   "outputs": [],
   "source": [
    "\"Number of LADs in data: {}\".format(len(baseline.lad_uk_2016.unique()))"
   ]
  }
 ],
 "metadata": {
  "kernelspec": {
   "display_name": "Python 3",
   "language": "python",
   "name": "python3"
  },
  "language_info": {
   "codemirror_mode": {
    "name": "ipython",
    "version": 3
   },
   "file_extension": ".py",
   "mimetype": "text/x-python",
   "name": "python",
   "nbconvert_exporter": "python",
   "pygments_lexer": "ipython3",
   "version": "3.7.3"
  }
 },
 "nbformat": 4,
 "nbformat_minor": 2
}
